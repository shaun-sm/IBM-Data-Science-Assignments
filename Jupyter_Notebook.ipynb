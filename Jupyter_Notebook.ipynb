{
 "cells": [
  {
   "cell_type": "markdown",
   "metadata": {},
   "source": [
    "<center>\n",
    "    <img src=\"https://s3-api.us-geo.objectstorage.softlayer.net/cf-courses-data/CognitiveClass/Logos/organization_logo/organization_logo.png\" width=\"300\" alt=\"cognitiveclass.ai logo\"  />\n",
    "</center>\n"
   ]
  },
  {
   "cell_type": "markdown",
   "metadata": {},
   "source": [
    "#### Add your code below following the instructions given in the course\n"
   ]
  },
  {
   "cell_type": "markdown",
   "metadata": {},
   "source": [
    "# My Jupyter Notebook on IBM Watson Studio"
   ]
  },
  {
   "cell_type": "markdown",
   "metadata": {},
   "source": [
    "__Shayan Asmari__ \\\n",
    "Automotive Engineering Student"
   ]
  },
  {
   "cell_type": "markdown",
   "metadata": {},
   "source": [
    "_I am interested in data science because I want to apply it to future automotive systems such as automated and connected driving and battery management._"
   ]
  },
  {
   "cell_type": "markdown",
   "metadata": {},
   "source": [
    "### This code prints a very simple text"
   ]
  },
  {
   "cell_type": "code",
   "execution_count": 8,
   "metadata": {
    "tags": []
   },
   "outputs": [
    {
     "name": "stdout",
     "output_type": "stream",
     "text": [
      "-What is my purpose? \n",
      "-You print 'Hello World!' \n",
      "-Oh god\n"
     ]
    }
   ],
   "source": [
    "print(\"-What is my purpose? \\n-You print 'Hello World!' \\n-Oh god\")"
   ]
  },
  {
   "cell_type": "markdown",
   "metadata": {},
   "source": [
    "This is a horizontal rule:\n",
    "\n",
    "---\n",
    "\n",
    "A bulleted list:\n",
    " - item 1\n",
    " - item 2\n",
    " - item 3\n",
    " \n",
    "A numbered list:\n",
    "1. item 1\n",
    "2. item 2\n",
    "3. item 3\n",
    "\n",
    "A table:\n",
    "| 1,1 | 1,2 | 1,3 |\n",
    "|-----|-----|-----|\n",
    "| 2,1 | 2,2 | 2,3 |\n",
    "| 3,1 | 3,2 | 3,3 |\n",
    "\n",
    "A hyperlink:\\\n",
    "[click here to go to Google](https://www.google.com)\n",
    "\n",
    "Here's a picture of a pizza:\n",
    "![](https://static.toiimg.com/thumb/53110049.cms?width=1200&height=900)\n",
    "\n",
    "Code/syntax highlighting:\\\n",
    "There's some `highlighted code`\n",
    "\n",
    "Now, blocked quotes:\n",
    "> Look at me! I am a blocked quote\n",
    "\n",
    "And finally, strikethrough:\n",
    "~~Oh no! I have been struck through~~\n"
   ]
  },
  {
   "cell_type": "code",
   "execution_count": null,
   "metadata": {},
   "outputs": [],
   "source": []
  }
 ],
 "metadata": {
  "kernelspec": {
   "display_name": "Python",
   "language": "python",
   "name": "conda-env-python-py"
  },
  "language_info": {
   "codemirror_mode": {
    "name": "ipython",
    "version": 3
   },
   "file_extension": ".py",
   "mimetype": "text/x-python",
   "name": "python",
   "nbconvert_exporter": "python",
   "pygments_lexer": "ipython3",
   "version": "3.7.12"
  }
 },
 "nbformat": 4,
 "nbformat_minor": 4
}
